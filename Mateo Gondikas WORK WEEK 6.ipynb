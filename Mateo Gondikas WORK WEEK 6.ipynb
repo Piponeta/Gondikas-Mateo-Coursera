{
 "cells": [
  {
   "cell_type": "markdown",
   "id": "5ffbee2a",
   "metadata": {},
   "source": [
    "# *2) Notebook*"
   ]
  },
  {
   "cell_type": "markdown",
   "id": "4d0f3416",
   "metadata": {},
   "source": [
    "*3) introduction*"
   ]
  },
  {
   "cell_type": "markdown",
   "id": "337a507a",
   "metadata": {},
   "source": [
    "## 4) Data science languages:\n",
    "\n",
    "+ Python\n",
    "+ R\n",
    "+ SQL\n",
    "+ C++\n",
    "+ JAVA"
   ]
  },
  {
   "cell_type": "markdown",
   "id": "3d5b9753",
   "metadata": {},
   "source": [
    "## 5) Data science libraries:\n",
    "\n",
    "+ Pandas\n",
    "+ NumbPY\n",
    "+ SciPy\n",
    "+ Matplotlib\n"
   ]
  },
  {
   "cell_type": "markdown",
   "id": "ac80981e",
   "metadata": {},
   "source": [
    "## 6) Table of Data Science tools."
   ]
  },
  {
   "cell_type": "markdown",
   "id": "5fbd446b",
   "metadata": {},
   "source": [
    "|number|tools|\n",
    "|-------|---|\n",
    "|1|R and Rstudio|\n",
    "|2|GitHub|\n",
    "|3|Jupeyter|\n"
   ]
  },
  {
   "cell_type": "markdown",
   "id": "72c2d857",
   "metadata": {},
   "source": [
    "## 7) Arithmetic expression examples. \n",
    "\n",
    "\n",
    "|Expression|Example|\n",
    "|----|----|\n",
    "|+|3+2=5|\n",
    "|-|3-2=1|\n",
    "|/|5/2=2.5|\n",
    "|//|5/2=2\n",
    "|%|5%=1|\n",
    "|* |5* 2=10|\n",
    "|** |2** 2=4|\n",
    "\n"
   ]
  },
  {
   "cell_type": "code",
   "execution_count": 46,
   "id": "1a03f051",
   "metadata": {},
   "outputs": [],
   "source": [
    "#8)\n",
    "def sum():\n",
    "    n1=int(input(\"number1: \"))\n",
    "    n2=int(input(\"number2: \"))\n",
    "    print(n1+n2)\n",
    "#8)    \n",
    "def mul():\n",
    "    n1=int(input(\"number1: \"))\n",
    "    n2=int(input(\"number2: \"))\n",
    "    print(n1*n2)\n",
    "#9)    \n",
    "def convert_min_to_hour(min):\n",
    "    min/=60\n",
    "    print(f\"{round(min,3)} Hours\")"
   ]
  },
  {
   "cell_type": "code",
   "execution_count": 32,
   "id": "7c81c98e",
   "metadata": {
    "scrolled": false
   },
   "outputs": [
    {
     "name": "stdout",
     "output_type": "stream",
     "text": [
      "number1: 5\n",
      "number2: 3\n",
      "8\n"
     ]
    }
   ],
   "source": [
    "#8)\n",
    "sum()"
   ]
  },
  {
   "cell_type": "code",
   "execution_count": 31,
   "id": "31c7cadd",
   "metadata": {
    "scrolled": true
   },
   "outputs": [
    {
     "name": "stdout",
     "output_type": "stream",
     "text": [
      "number1: 5\n",
      "number2: 3\n",
      "15\n"
     ]
    }
   ],
   "source": [
    "#8)\n",
    "mul()"
   ]
  },
  {
   "cell_type": "code",
   "execution_count": 49,
   "id": "190c9bc4",
   "metadata": {},
   "outputs": [
    {
     "name": "stdout",
     "output_type": "stream",
     "text": [
      "2.05 Hours\n"
     ]
    }
   ],
   "source": [
    "#9)\n",
    "convert_min_to_hour(123)"
   ]
  },
  {
   "cell_type": "markdown",
   "id": "dcc2b506",
   "metadata": {},
   "source": [
    "## 9) Objectives:\n",
    "\n",
    "+ Objectives 1\n",
    "+ Objectives 2\n",
    "+ Objectives 3\n",
    "+ Objectives 4\n",
    "+ Objectives 5"
   ]
  },
  {
   "cell_type": "markdown",
   "id": "9529d417",
   "metadata": {},
   "source": [
    "#### ***10) the Author’s name: Gondikas Mateo***"
   ]
  },
  {
   "cell_type": "code",
   "execution_count": null,
   "id": "390ed26e",
   "metadata": {},
   "outputs": [],
   "source": []
  }
 ],
 "metadata": {
  "kernelspec": {
   "display_name": "Python 3.8.0 32-bit",
   "language": "python",
   "name": "python3"
  },
  "language_info": {
   "codemirror_mode": {
    "name": "ipython",
    "version": 3
   },
   "file_extension": ".py",
   "mimetype": "text/x-python",
   "name": "python",
   "nbconvert_exporter": "python",
   "pygments_lexer": "ipython3",
   "version": "3.8.0"
  },
  "vscode": {
   "interpreter": {
    "hash": "9363dc131ef194b2f28a3b136b4153138bb891634d04c7d3fc6a2887135a1464"
   }
  }
 },
 "nbformat": 4,
 "nbformat_minor": 5
}
