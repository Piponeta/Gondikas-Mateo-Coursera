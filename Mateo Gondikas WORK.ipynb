{
 "cells": [
  {
   "cell_type": "markdown",
   "id": "5ffbee2a",
   "metadata": {},
   "source": [
    "# *Data Science Tools and Ecosystem*"
   ]
  },
  {
   "cell_type": "markdown",
   "id": "4d0f3416",
   "metadata": {},
   "source": [
    "*In this notebook, Data Science Tool and Ecosystem are summarizer*"
   ]
  },
  {
   "cell_type": "markdown",
   "id": "337a507a",
   "metadata": {},
   "source": [
    "## Data science languages:\n",
    "\n",
    "+ Python\n",
    "+ R\n",
    "+ SQL\n",
    "+ C++\n",
    "+ JAVA"
   ]
  },
  {
   "cell_type": "markdown",
   "id": "3d5b9753",
   "metadata": {},
   "source": [
    "## Data science libraries:\n",
    "\n",
    "+ Pandas\n",
    "+ NumbPY\n",
    "+ SciPy\n",
    "+ Matplotlib\n"
   ]
  },
  {
   "cell_type": "markdown",
   "id": "5fbd446b",
   "metadata": {},
   "source": [
    "##  Table of Data Science tools:\n",
    "\n",
    "|Data Science Tools|\n",
    "|-------|\n",
    "|R and Rstudio|\n",
    "|Zeppelin|\n",
    "|Jupeyter Notebooks|\n"
   ]
  },
  {
   "cell_type": "markdown",
   "id": "72c2d857",
   "metadata": {},
   "source": [
    "## Arithmetic expression examples. \n",
    "\n",
    "\n",
    "|Expression|Example|\n",
    "|----|----|\n",
    "|+|3+2=5|\n",
    "|-|3-2=1|\n",
    "|/|5/2=2.5|\n",
    "|//|5/2=2\n",
    "|%|5%=1|\n",
    "|* |5* 2=10|\n",
    "|** |2** 2=4|\n",
    "\n"
   ]
  },
  {
   "cell_type": "code",
   "execution_count": 10,
   "id": "1a03f051",
   "metadata": {},
   "outputs": [],
   "source": [
    "\n",
    "def sum():\n",
    "    n1=int(input(\"number1: \"))\n",
    "    n2=int(input(\"number2: \"))\n",
    "    print(n1+n2)\n",
    "   \n",
    "def mul():\n",
    "    n1=int(input(\"number1: \"))\n",
    "    n2=int(input(\"number2: \"))\n",
    "    print(n1*n2)\n",
    "    \n",
    "def convert_min_to_hour(min):\n",
    "    min/=60\n",
    "    print(f\"{round(min,3)} Hours\")"
   ]
  },
  {
   "cell_type": "code",
   "execution_count": 7,
   "id": "7c81c98e",
   "metadata": {
    "scrolled": false
   },
   "outputs": [
    {
     "name": "stdout",
     "output_type": "stream",
     "text": [
      "number1: 5\n",
      "number2: 6\n",
      "11\n"
     ]
    }
   ],
   "source": [
    "\n",
    "sum()"
   ]
  },
  {
   "cell_type": "code",
   "execution_count": 8,
   "id": "31c7cadd",
   "metadata": {
    "scrolled": true
   },
   "outputs": [
    {
     "name": "stdout",
     "output_type": "stream",
     "text": [
      "number1: 5\n",
      "number2: 5\n",
      "25\n"
     ]
    }
   ],
   "source": [
    "\n",
    "mul()"
   ]
  },
  {
   "cell_type": "code",
   "execution_count": 9,
   "id": "190c9bc4",
   "metadata": {},
   "outputs": [
    {
     "name": "stdout",
     "output_type": "stream",
     "text": [
      "3.333 Hours\n"
     ]
    }
   ],
   "source": [
    "\n",
    "convert_min_to_hour(200)"
   ]
  },
  {
   "cell_type": "markdown",
   "id": "dcc2b506",
   "metadata": {},
   "source": [
    "## Objectives:\n",
    "\n",
    "+ Add comments to code cells\n",
    "+ Create markdown cells\n",
    "+ Add ordered and uncreder lists to markdown\n",
    "+ Format content of markdown cells whit heading styles"
   ]
  },
  {
   "cell_type": "markdown",
   "id": "9529d417",
   "metadata": {},
   "source": [
    "#### ***the Author’s name: Gondikas Mateo***"
   ]
  },
  {
   "cell_type": "code",
   "execution_count": null,
   "id": "f4cac9dd",
   "metadata": {},
   "outputs": [],
   "source": []
  },
  {
   "cell_type": "code",
   "execution_count": null,
   "id": "0a45e8b7",
   "metadata": {},
   "outputs": [],
   "source": []
  }
 ],
 "metadata": {
  "kernelspec": {
   "display_name": "Python 3",
   "language": "python",
   "name": "python3"
  },
  "language_info": {
   "codemirror_mode": {
    "name": "ipython",
    "version": 3
   },
   "file_extension": ".py",
   "mimetype": "text/x-python",
   "name": "python",
   "nbconvert_exporter": "python",
   "pygments_lexer": "ipython3",
   "version": "3.8.8"
  }
 },
 "nbformat": 4,
 "nbformat_minor": 5
}
